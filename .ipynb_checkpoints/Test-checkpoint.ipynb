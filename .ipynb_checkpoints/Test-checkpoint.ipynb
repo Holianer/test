{
 "cells": [
  {
   "cell_type": "code",
   "execution_count": 7,
   "id": "a5644be8",
   "metadata": {},
   "outputs": [],
   "source": [
    "import pandas as nigga"
   ]
  },
  {
   "cell_type": "code",
   "execution_count": 11,
   "id": "53d840bc",
   "metadata": {},
   "outputs": [
    {
     "name": "stdout",
     "output_type": "stream",
     "text": [
      "error niggaaaa,  'utf-8' codec can't decode byte 0xa1 in position 15: invalid start byte\n"
     ]
    }
   ],
   "source": [
    "try:\n",
    "    df = nigga.read_csv(\"Water Gallons Sales.xlsx\")\n",
    "except Exception as e:\n",
    "    print('error niggaaaa, ', e)"
   ]
  },
  {
   "cell_type": "code",
   "execution_count": null,
   "id": "7822ef10",
   "metadata": {},
   "outputs": [],
   "source": []
  },
  {
   "cell_type": "code",
   "execution_count": null,
   "id": "5dc08065",
   "metadata": {},
   "outputs": [],
   "source": []
  },
  {
   "cell_type": "code",
   "execution_count": null,
   "id": "8958a178",
   "metadata": {},
   "outputs": [],
   "source": []
  },
  {
   "cell_type": "code",
   "execution_count": null,
   "id": "231cd59e",
   "metadata": {},
   "outputs": [],
   "source": []
  },
  {
   "cell_type": "code",
   "execution_count": null,
   "id": "466ce45d",
   "metadata": {},
   "outputs": [],
   "source": []
  },
  {
   "cell_type": "code",
   "execution_count": null,
   "id": "4813aea8",
   "metadata": {},
   "outputs": [],
   "source": []
  },
  {
   "cell_type": "code",
   "execution_count": null,
   "id": "d125b47f",
   "metadata": {},
   "outputs": [],
   "source": []
  },
  {
   "cell_type": "code",
   "execution_count": null,
   "id": "51294972",
   "metadata": {},
   "outputs": [],
   "source": []
  }
 ],
 "metadata": {
  "kernelspec": {
   "display_name": "Python 3 (ipykernel)",
   "language": "python",
   "name": "python3"
  },
  "language_info": {
   "codemirror_mode": {
    "name": "ipython",
    "version": 3
   },
   "file_extension": ".py",
   "mimetype": "text/x-python",
   "name": "python",
   "nbconvert_exporter": "python",
   "pygments_lexer": "ipython3",
   "version": "3.11.7"
  }
 },
 "nbformat": 4,
 "nbformat_minor": 5
}
